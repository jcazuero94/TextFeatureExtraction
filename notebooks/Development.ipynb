{
 "cells": [
  {
   "cell_type": "code",
   "execution_count": 1,
   "metadata": {},
   "outputs": [],
   "source": [
    "from sklearn.datasets import fetch_20newsgroups\n",
    "from transformers import BertTokenizerFast,TFAutoModel\n",
    "import tensorflow as tf\n",
    "from sklearn.model_selection import train_test_split, cross_val_score\n",
    "import pandas as pd\n",
    "import numpy as np\n",
    "from sklearn.feature_extraction.text import TfidfVectorizer\n",
    "from sklearn.ensemble import RandomForestClassifier\n",
    "import datetime"
   ]
  },
  {
   "cell_type": "code",
   "execution_count": 2,
   "metadata": {},
   "outputs": [
    {
     "name": "stdout",
     "output_type": "stream",
     "text": [
      "GPU is available\n"
     ]
    }
   ],
   "source": [
    "gpu = len(tf.config.list_physical_devices('GPU'))>0\n",
    "print(\"GPU is\", \"available\" if gpu else \"NOT AVAILABLE\")"
   ]
  },
  {
   "cell_type": "code",
   "execution_count": 3,
   "metadata": {},
   "outputs": [],
   "source": [
    "dataset = fetch_20newsgroups(subset=\"all\", shuffle=True, remove=(\"headers\",\"footers\", \"quotes\"))\n",
    "news_text = dataset.data\n",
    "target_names=dataset.target_names\n",
    "labels = dataset.target\n",
    "(train_texts,test_texts,train_labels,test_labels)=train_test_split(news_text, labels, test_size=0.2)\n",
    "(train_texts,cv_texts,train_labels,cv_labels)=train_test_split(train_texts, train_labels, test_size=0.2)\n"
   ]
  },
  {
   "cell_type": "code",
   "execution_count": 4,
   "metadata": {},
   "outputs": [],
   "source": [
    "train_df = pd.DataFrame(data=np.array([train_texts,train_labels]).T,columns=['text','labels'])\n",
    "cv_df = pd.DataFrame(data=np.array([cv_texts,cv_labels]).T,columns=['text','labels'])\n",
    "test_df = pd.DataFrame(data=np.array([test_texts,test_labels]).T,columns=['text','labels'])"
   ]
  },
  {
   "cell_type": "code",
   "execution_count": 5,
   "metadata": {},
   "outputs": [
    {
     "name": "stderr",
     "output_type": "stream",
     "text": [
      "2023-03-01 23:31:35.793340: I tensorflow/core/common_runtime/pluggable_device/pluggable_device_factory.cc:306] Could not identify NUMA node of platform GPU ID 0, defaulting to 0. Your kernel may not have been built with NUMA support.\n",
      "2023-03-01 23:31:35.793548: I tensorflow/core/common_runtime/pluggable_device/pluggable_device_factory.cc:272] Created TensorFlow device (/job:localhost/replica:0/task:0/device:GPU:0 with 0 MB memory) -> physical PluggableDevice (device: 0, name: METAL, pci bus id: <undefined>)\n"
     ]
    },
    {
     "name": "stdout",
     "output_type": "stream",
     "text": [
      "Metal device set to: Apple M1 Max\n",
      "\n",
      "systemMemory: 32.00 GB\n",
      "maxCacheSize: 10.67 GB\n",
      "\n"
     ]
    },
    {
     "name": "stderr",
     "output_type": "stream",
     "text": [
      "Some layers from the model checkpoint at bert-base-uncased were not used when initializing TFBertModel: ['nsp___cls', 'mlm___cls']\n",
      "- This IS expected if you are initializing TFBertModel from the checkpoint of a model trained on another task or with another architecture (e.g. initializing a BertForSequenceClassification model from a BertForPreTraining model).\n",
      "- This IS NOT expected if you are initializing TFBertModel from the checkpoint of a model that you expect to be exactly identical (initializing a BertForSequenceClassification model from a BertForSequenceClassification model).\n",
      "All the layers of TFBertModel were initialized from the model checkpoint at bert-base-uncased.\n",
      "If your task is similar to the task the model of the checkpoint was trained on, you can already use TFBertModel for predictions without further training.\n"
     ]
    }
   ],
   "source": [
    "# Load the BERT tokenizer\n",
    "tokenizer = BertTokenizerFast.from_pretrained('bert-base-uncased')\n",
    "# Load the pre-trained BERT model\n",
    "model = TFAutoModel.from_pretrained('bert-base-uncased')"
   ]
  },
  {
   "cell_type": "code",
   "execution_count": 6,
   "metadata": {},
   "outputs": [],
   "source": [
    "def bert_feature_exrtaction(text, max_length=512, batch_size=512):\n",
    "    encoded = [tokenizer.encode(t, add_special_tokens=True) for t in text]\n",
    "    padded = [e[:max_length] + [0] * (max_length - len(e[:max_length])) for e in encoded]\n",
    "    result =[]\n",
    "    i = 0\n",
    "    print(\"Bert feature extraction\")\n",
    "    while i < len(padded):\n",
    "        print(f'{i} - {len(padded)}')\n",
    "        input_ids = tf.constant(padded[i:min(i+batch_size,len(padded))])\n",
    "        outputs = model(input_ids,output_hidden_states=False)\n",
    "        i += batch_size\n",
    "        result += list(outputs[0].numpy().mean(axis=1))\n",
    "    return result"
   ]
  },
  {
   "cell_type": "code",
   "execution_count": 7,
   "metadata": {},
   "outputs": [
    {
     "name": "stderr",
     "output_type": "stream",
     "text": [
      "Token indices sequence length is longer than the specified maximum sequence length for this model (674 > 512). Running this sequence through the model will result in indexing errors\n"
     ]
    },
    {
     "name": "stdout",
     "output_type": "stream",
     "text": [
      "Bert feature extraction\n",
      "0 - 12060\n",
      "512 - 12060\n",
      "1024 - 12060\n",
      "1536 - 12060\n",
      "2048 - 12060\n",
      "2560 - 12060\n",
      "3072 - 12060\n",
      "3584 - 12060\n",
      "4096 - 12060\n",
      "4608 - 12060\n",
      "5120 - 12060\n",
      "5632 - 12060\n",
      "6144 - 12060\n",
      "6656 - 12060\n",
      "7168 - 12060\n",
      "7680 - 12060\n",
      "8192 - 12060\n",
      "8704 - 12060\n",
      "9216 - 12060\n",
      "9728 - 12060\n",
      "10240 - 12060\n",
      "10752 - 12060\n",
      "11264 - 12060\n",
      "11776 - 12060\n",
      "Bert feature extraction\n",
      "0 - 3016\n",
      "512 - 3016\n",
      "1024 - 3016\n",
      "1536 - 3016\n",
      "2048 - 3016\n",
      "2560 - 3016\n",
      "Bert feature extraction\n",
      "0 - 3770\n",
      "512 - 3770\n",
      "1024 - 3770\n",
      "1536 - 3770\n",
      "2048 - 3770\n",
      "2560 - 3770\n",
      "3072 - 3770\n",
      "3584 - 3770\n"
     ]
    }
   ],
   "source": [
    "train_df['bert_encoding'] = bert_feature_exrtaction(train_df['text'].values)\n",
    "cv_df['bert_encoding'] = bert_feature_exrtaction(cv_df['text'].values)\n",
    "test_df['bert_encoding'] = bert_feature_exrtaction(test_df['text'].values)"
   ]
  },
  {
   "cell_type": "code",
   "execution_count": 3,
   "metadata": {},
   "outputs": [],
   "source": [
    "# train_df.to_parquet('../data/train_df_bert')\n",
    "# cv_df.to_parquet('../data/cv_df_bert')\n",
    "# test_df.to_parquet('../data/test_df_bert')\n",
    "train_df = pd.read_parquet('../data/train_df_bert')\n",
    "cv_df = pd.read_parquet('../data/cv_df_bert')\n",
    "test_df = pd.read_parquet('../data/test_df_bert')"
   ]
  },
  {
   "cell_type": "code",
   "execution_count": 4,
   "metadata": {},
   "outputs": [
    {
     "data": {
      "text/html": [
       "<style>#sk-container-id-1 {color: black;background-color: white;}#sk-container-id-1 pre{padding: 0;}#sk-container-id-1 div.sk-toggleable {background-color: white;}#sk-container-id-1 label.sk-toggleable__label {cursor: pointer;display: block;width: 100%;margin-bottom: 0;padding: 0.3em;box-sizing: border-box;text-align: center;}#sk-container-id-1 label.sk-toggleable__label-arrow:before {content: \"▸\";float: left;margin-right: 0.25em;color: #696969;}#sk-container-id-1 label.sk-toggleable__label-arrow:hover:before {color: black;}#sk-container-id-1 div.sk-estimator:hover label.sk-toggleable__label-arrow:before {color: black;}#sk-container-id-1 div.sk-toggleable__content {max-height: 0;max-width: 0;overflow: hidden;text-align: left;background-color: #f0f8ff;}#sk-container-id-1 div.sk-toggleable__content pre {margin: 0.2em;color: black;border-radius: 0.25em;background-color: #f0f8ff;}#sk-container-id-1 input.sk-toggleable__control:checked~div.sk-toggleable__content {max-height: 200px;max-width: 100%;overflow: auto;}#sk-container-id-1 input.sk-toggleable__control:checked~label.sk-toggleable__label-arrow:before {content: \"▾\";}#sk-container-id-1 div.sk-estimator input.sk-toggleable__control:checked~label.sk-toggleable__label {background-color: #d4ebff;}#sk-container-id-1 div.sk-label input.sk-toggleable__control:checked~label.sk-toggleable__label {background-color: #d4ebff;}#sk-container-id-1 input.sk-hidden--visually {border: 0;clip: rect(1px 1px 1px 1px);clip: rect(1px, 1px, 1px, 1px);height: 1px;margin: -1px;overflow: hidden;padding: 0;position: absolute;width: 1px;}#sk-container-id-1 div.sk-estimator {font-family: monospace;background-color: #f0f8ff;border: 1px dotted black;border-radius: 0.25em;box-sizing: border-box;margin-bottom: 0.5em;}#sk-container-id-1 div.sk-estimator:hover {background-color: #d4ebff;}#sk-container-id-1 div.sk-parallel-item::after {content: \"\";width: 100%;border-bottom: 1px solid gray;flex-grow: 1;}#sk-container-id-1 div.sk-label:hover label.sk-toggleable__label {background-color: #d4ebff;}#sk-container-id-1 div.sk-serial::before {content: \"\";position: absolute;border-left: 1px solid gray;box-sizing: border-box;top: 0;bottom: 0;left: 50%;z-index: 0;}#sk-container-id-1 div.sk-serial {display: flex;flex-direction: column;align-items: center;background-color: white;padding-right: 0.2em;padding-left: 0.2em;position: relative;}#sk-container-id-1 div.sk-item {position: relative;z-index: 1;}#sk-container-id-1 div.sk-parallel {display: flex;align-items: stretch;justify-content: center;background-color: white;position: relative;}#sk-container-id-1 div.sk-item::before, #sk-container-id-1 div.sk-parallel-item::before {content: \"\";position: absolute;border-left: 1px solid gray;box-sizing: border-box;top: 0;bottom: 0;left: 50%;z-index: -1;}#sk-container-id-1 div.sk-parallel-item {display: flex;flex-direction: column;z-index: 1;position: relative;background-color: white;}#sk-container-id-1 div.sk-parallel-item:first-child::after {align-self: flex-end;width: 50%;}#sk-container-id-1 div.sk-parallel-item:last-child::after {align-self: flex-start;width: 50%;}#sk-container-id-1 div.sk-parallel-item:only-child::after {width: 0;}#sk-container-id-1 div.sk-dashed-wrapped {border: 1px dashed gray;margin: 0 0.4em 0.5em 0.4em;box-sizing: border-box;padding-bottom: 0.4em;background-color: white;}#sk-container-id-1 div.sk-label label {font-family: monospace;font-weight: bold;display: inline-block;line-height: 1.2em;}#sk-container-id-1 div.sk-label-container {text-align: center;}#sk-container-id-1 div.sk-container {/* jupyter's `normalize.less` sets `[hidden] { display: none; }` but bootstrap.min.css set `[hidden] { display: none !important; }` so we also need the `!important` here to be able to override the default hidden behavior on the sphinx rendered scikit-learn.org. See: https://github.com/scikit-learn/scikit-learn/issues/21755 */display: inline-block !important;position: relative;}#sk-container-id-1 div.sk-text-repr-fallback {display: none;}</style><div id=\"sk-container-id-1\" class=\"sk-top-container\"><div class=\"sk-text-repr-fallback\"><pre>TfidfVectorizer(max_features=512)</pre><b>In a Jupyter environment, please rerun this cell to show the HTML representation or trust the notebook. <br />On GitHub, the HTML representation is unable to render, please try loading this page with nbviewer.org.</b></div><div class=\"sk-container\" hidden><div class=\"sk-item\"><div class=\"sk-estimator sk-toggleable\"><input class=\"sk-toggleable__control sk-hidden--visually\" id=\"sk-estimator-id-1\" type=\"checkbox\" checked><label for=\"sk-estimator-id-1\" class=\"sk-toggleable__label sk-toggleable__label-arrow\">TfidfVectorizer</label><div class=\"sk-toggleable__content\"><pre>TfidfVectorizer(max_features=512)</pre></div></div></div></div></div>"
      ],
      "text/plain": [
       "TfidfVectorizer(max_features=512)"
      ]
     },
     "execution_count": 4,
     "metadata": {},
     "output_type": "execute_result"
    }
   ],
   "source": [
    "vectorizer = TfidfVectorizer(max_features=512)\n",
    "vectorizer.fit(train_df['text'])"
   ]
  },
  {
   "cell_type": "code",
   "execution_count": 5,
   "metadata": {},
   "outputs": [],
   "source": [
    "train_df['tfidf_encoding'] = list(vectorizer.transform(train_df['text']).toarray())\n",
    "cv_df['tfidf_encoding'] = list(vectorizer.transform(cv_df['text']).toarray())\n",
    "test_df['tfidf_encoding'] = list(vectorizer.transform(test_df['text']).toarray())"
   ]
  },
  {
   "cell_type": "code",
   "execution_count": 6,
   "metadata": {},
   "outputs": [],
   "source": [
    "def gen_rf_hyperparameters():\n",
    "    n_estimators = max(int(10 ** (np.random.random() * 1.5 + 1)), 1)\n",
    "    max_depth = np.random.choice([1, 2, 5, 10, 20])\n",
    "    min_samples_leaf = np.random.randint(1, 100)\n",
    "    max_features = np.random.random()\n",
    "    return {\n",
    "        \"n_estimators\": n_estimators,\n",
    "        \"max_depth\": max_depth,\n",
    "        \"min_samples_leaf\": min_samples_leaf,\n",
    "        \"max_features\": max_features,\n",
    "    }"
   ]
  },
  {
   "cell_type": "code",
   "execution_count": 7,
   "metadata": {},
   "outputs": [
    {
     "name": "stdout",
     "output_type": "stream",
     "text": [
      "Iteration 1 - 50: CV - 08:26:41\n",
      "Iter 0 - Accuracy :0.22983550013266119\n",
      "Iter 2 - Accuracy :0.2630671265587689\n",
      "Iteration 6 - 50: CV - 08:38:55\n",
      "Iter 8 - Accuracy :0.2893340408596445\n",
      "Iteration 11 - 50: CV - 08:56:38\n",
      "Iteration 16 - 50: CV - 09:14:08\n",
      "Iter 16 - Accuracy :0.3082382594852746\n",
      "Iteration 21 - 50: CV - 09:52:43\n",
      "Iter 24 - Accuracy :0.3165295834438843\n",
      "Iteration 26 - 50: CV - 11:08:09\n",
      "Iteration 31 - 50: CV - 11:19:43\n",
      "Iteration 36 - 50: CV - 12:15:44\n",
      "Iteration 41 - 50: CV - 12:31:39\n",
      "Iteration 46 - 50: CV - 13:55:08\n"
     ]
    }
   ],
   "source": [
    "n_cv = 50\n",
    "score = 0\n",
    "final_params = None\n",
    "for i in range(n_cv):\n",
    "    if i % 5 == 0:\n",
    "        print(\n",
    "            f\"Iteration {i+1} - {n_cv}: CV - {datetime.datetime.today().strftime('%H:%M:%S')}\"\n",
    "        )\n",
    "    params = gen_rf_hyperparameters()\n",
    "    model = RandomForestClassifier(**params)\n",
    "    cv_score = np.mean(\n",
    "        cross_val_score(\n",
    "            model,\n",
    "            list(pd.concat([train_df,cv_df])['bert_encoding']),\n",
    "            list(pd.concat([train_df,cv_df])['labels']),\n",
    "            cv=4,\n",
    "        )\n",
    "    )\n",
    "    if cv_score > score:\n",
    "        score = cv_score\n",
    "        final_params = params\n",
    "        print(f\"Iter {i+1} - Accuracy :{score}\")"
   ]
  },
  {
   "cell_type": "code",
   "execution_count": 8,
   "metadata": {},
   "outputs": [
    {
     "name": "stdout",
     "output_type": "stream",
     "text": [
      "Iteration 1 - 40: CV - 15:38:39\n",
      "Iter 1 - Accuracy :0.3111568055187052\n",
      "Iter 3 - Accuracy :0.31573361634385777\n",
      "Iter 5 - Accuracy :0.3202440965773415\n",
      "Iteration 6 - 40: CV - 15:47:35\n",
      "Iteration 11 - 40: CV - 15:49:10\n",
      "Iteration 16 - 40: CV - 15:51:08\n",
      "Iter 17 - Accuracy :0.32110639426903687\n",
      "Iteration 21 - 40: CV - 15:54:04\n",
      "Iteration 26 - 40: CV - 16:01:12\n",
      "Iter 27 - Accuracy :0.33722472804457415\n",
      "Iteration 31 - 40: CV - 16:05:36\n",
      "Iter 31 - Accuracy :0.35321040063677367\n",
      "Iter 34 - Accuracy :0.3570575749535686\n",
      "Iteration 36 - 40: CV - 16:07:53\n",
      "Iter 37 - Accuracy :0.35845051737861505\n"
     ]
    }
   ],
   "source": [
    "n_cv = 40\n",
    "score = 0\n",
    "final_params = None\n",
    "for i in range(n_cv):\n",
    "    if i % 5 == 0:\n",
    "        print(\n",
    "            f\"Iteration {i+1} - {n_cv}: CV - {datetime.datetime.today().strftime('%H:%M:%S')}\"\n",
    "        )\n",
    "    params = gen_rf_hyperparameters()\n",
    "    model = RandomForestClassifier(**params)\n",
    "    cv_score = np.mean(\n",
    "        cross_val_score(\n",
    "            model,\n",
    "            list(pd.concat([train_df,cv_df])['tfidf_encoding']),\n",
    "            list(pd.concat([train_df,cv_df])['labels']),\n",
    "            cv=4,\n",
    "        )\n",
    "    )\n",
    "    if cv_score > score:\n",
    "        score = cv_score\n",
    "        final_params = params\n",
    "        print(f\"Iter {i+1} - Accuracy :{score}\")"
   ]
  },
  {
   "cell_type": "code",
   "execution_count": null,
   "metadata": {},
   "outputs": [],
   "source": [
    "from transformers import BertTokenizerFast,TFAutoModel\n",
    "import tensorflow as tf\n",
    "import pandas as pd\n",
    "import numpy as np\n",
    "# Load the BERT tokenizer\n",
    "tokenizer = BertTokenizerFast.from_pretrained('bert-base-uncased')\n",
    "# Load the pre-trained BERT model\n",
    "model = TFAutoModel.from_pretrained('bert-base-uncased')\n",
    "def bert_feature_exrtaction(text, max_length=512, batch_size=512):\n",
    "    encoded = [tokenizer.encode(t, add_special_tokens=True) for t in text]\n",
    "    padded = [e[:max_length] + [0] * (max_length - len(e[:max_length])) for e in encoded]\n",
    "    result =[]\n",
    "    i = 0\n",
    "    print(\"Bert feature extraction\")\n",
    "    while i < len(padded):\n",
    "        print(f'{i} - {len(padded)}')\n",
    "        input_ids = tf.constant(padded[i:min(i+batch_size,len(padded))])\n",
    "        outputs = model(input_ids,output_hidden_states=False)\n",
    "        i += batch_size\n",
    "        result += list(outputs[0].numpy().mean(axis=1))\n",
    "    return result\n"
   ]
  }
 ],
 "metadata": {
  "kernelspec": {
   "display_name": "text_feature_extraction",
   "language": "python",
   "name": "python3"
  },
  "language_info": {
   "codemirror_mode": {
    "name": "ipython",
    "version": 3
   },
   "file_extension": ".py",
   "mimetype": "text/x-python",
   "name": "python",
   "nbconvert_exporter": "python",
   "pygments_lexer": "ipython3",
   "version": "3.10.0"
  },
  "orig_nbformat": 4,
  "vscode": {
   "interpreter": {
    "hash": "5ec2307c6da6095ac5c248cd41d04f426e39da14703d13401e6fe0c19f7ae217"
   }
  }
 },
 "nbformat": 4,
 "nbformat_minor": 2
}
