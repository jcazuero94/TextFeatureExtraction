{
 "cells": [
  {
   "cell_type": "code",
   "execution_count": 1,
   "metadata": {},
   "outputs": [],
   "source": [
    "from sklearn.datasets import fetch_20newsgroups\n",
    "from transformers import BertTokenizerFast,TFAutoModel\n",
    "import tensorflow as tf\n",
    "from sklearn.model_selection import train_test_split\n",
    "import pandas as pd\n",
    "import numpy as np"
   ]
  },
  {
   "cell_type": "code",
   "execution_count": 2,
   "metadata": {},
   "outputs": [
    {
     "name": "stdout",
     "output_type": "stream",
     "text": [
      "GPU is available\n"
     ]
    }
   ],
   "source": [
    "gpu = len(tf.config.list_physical_devices('GPU'))>0\n",
    "print(\"GPU is\", \"available\" if gpu else \"NOT AVAILABLE\")"
   ]
  },
  {
   "cell_type": "code",
   "execution_count": 3,
   "metadata": {},
   "outputs": [],
   "source": [
    "dataset = fetch_20newsgroups(subset=\"all\", shuffle=True, remove=(\"headers\",\"footers\", \"quotes\"))\n",
    "news_text = dataset.data\n",
    "target_names=dataset.target_names\n",
    "labels = dataset.target\n",
    "(train_texts,test_texts,train_labels,test_labels)=train_test_split(news_text, labels, test_size=0.2)\n",
    "(train_texts,cv_texts,train_labels,cv_labels)=train_test_split(train_texts, train_labels, test_size=0.2)\n"
   ]
  },
  {
   "cell_type": "code",
   "execution_count": 4,
   "metadata": {},
   "outputs": [],
   "source": [
    "train_df = pd.DataFrame(data=np.array([train_texts,train_labels]).T,columns=['text','labels'])\n",
    "cv_df = pd.DataFrame(data=np.array([cv_texts,cv_labels]).T,columns=['text','labels'])\n",
    "test_df = pd.DataFrame(data=np.array([test_texts,test_labels]).T,columns=['text','labels'])"
   ]
  },
  {
   "cell_type": "code",
   "execution_count": 5,
   "metadata": {},
   "outputs": [
    {
     "name": "stderr",
     "output_type": "stream",
     "text": [
      "2023-03-01 23:31:35.793340: I tensorflow/core/common_runtime/pluggable_device/pluggable_device_factory.cc:306] Could not identify NUMA node of platform GPU ID 0, defaulting to 0. Your kernel may not have been built with NUMA support.\n",
      "2023-03-01 23:31:35.793548: I tensorflow/core/common_runtime/pluggable_device/pluggable_device_factory.cc:272] Created TensorFlow device (/job:localhost/replica:0/task:0/device:GPU:0 with 0 MB memory) -> physical PluggableDevice (device: 0, name: METAL, pci bus id: <undefined>)\n"
     ]
    },
    {
     "name": "stdout",
     "output_type": "stream",
     "text": [
      "Metal device set to: Apple M1 Max\n",
      "\n",
      "systemMemory: 32.00 GB\n",
      "maxCacheSize: 10.67 GB\n",
      "\n"
     ]
    },
    {
     "name": "stderr",
     "output_type": "stream",
     "text": [
      "Some layers from the model checkpoint at bert-base-uncased were not used when initializing TFBertModel: ['nsp___cls', 'mlm___cls']\n",
      "- This IS expected if you are initializing TFBertModel from the checkpoint of a model trained on another task or with another architecture (e.g. initializing a BertForSequenceClassification model from a BertForPreTraining model).\n",
      "- This IS NOT expected if you are initializing TFBertModel from the checkpoint of a model that you expect to be exactly identical (initializing a BertForSequenceClassification model from a BertForSequenceClassification model).\n",
      "All the layers of TFBertModel were initialized from the model checkpoint at bert-base-uncased.\n",
      "If your task is similar to the task the model of the checkpoint was trained on, you can already use TFBertModel for predictions without further training.\n"
     ]
    }
   ],
   "source": [
    "# Load the BERT tokenizer\n",
    "tokenizer = BertTokenizerFast.from_pretrained('bert-base-uncased')\n",
    "# Load the pre-trained BERT model\n",
    "model = TFAutoModel.from_pretrained('bert-base-uncased')"
   ]
  },
  {
   "cell_type": "code",
   "execution_count": 6,
   "metadata": {},
   "outputs": [],
   "source": [
    "def bert_feature_exrtaction(text, max_length=512, batch_size=512):\n",
    "    encoded = [tokenizer.encode(t, add_special_tokens=True) for t in text]\n",
    "    padded = [e[:max_length] + [0] * (max_length - len(e[:max_length])) for e in encoded]\n",
    "    result =[]\n",
    "    i = 0\n",
    "    print(\"Bert feature extraction\")\n",
    "    while i < len(padded):\n",
    "        print(f'{i} - {len(padded)}')\n",
    "        input_ids = tf.constant(padded[i:min(i+batch_size,len(padded))])\n",
    "        outputs = model(input_ids,output_hidden_states=False)\n",
    "        i += batch_size\n",
    "        result += list(outputs[0].numpy().mean(axis=1))\n",
    "    return result"
   ]
  },
  {
   "cell_type": "code",
   "execution_count": 7,
   "metadata": {},
   "outputs": [
    {
     "name": "stderr",
     "output_type": "stream",
     "text": [
      "Token indices sequence length is longer than the specified maximum sequence length for this model (674 > 512). Running this sequence through the model will result in indexing errors\n"
     ]
    },
    {
     "name": "stdout",
     "output_type": "stream",
     "text": [
      "Bert feature extraction\n",
      "0 - 12060\n",
      "512 - 12060\n",
      "1024 - 12060\n",
      "1536 - 12060\n",
      "2048 - 12060\n",
      "2560 - 12060\n",
      "3072 - 12060\n",
      "3584 - 12060\n",
      "4096 - 12060\n",
      "4608 - 12060\n",
      "5120 - 12060\n",
      "5632 - 12060\n",
      "6144 - 12060\n",
      "6656 - 12060\n",
      "7168 - 12060\n",
      "7680 - 12060\n",
      "8192 - 12060\n",
      "8704 - 12060\n",
      "9216 - 12060\n",
      "9728 - 12060\n",
      "10240 - 12060\n",
      "10752 - 12060\n",
      "11264 - 12060\n",
      "11776 - 12060\n",
      "Bert feature extraction\n",
      "0 - 3016\n",
      "512 - 3016\n",
      "1024 - 3016\n",
      "1536 - 3016\n",
      "2048 - 3016\n",
      "2560 - 3016\n",
      "Bert feature extraction\n",
      "0 - 3770\n",
      "512 - 3770\n",
      "1024 - 3770\n",
      "1536 - 3770\n",
      "2048 - 3770\n",
      "2560 - 3770\n",
      "3072 - 3770\n",
      "3584 - 3770\n"
     ]
    }
   ],
   "source": [
    "train_df['bert_encoding'] = bert_feature_exrtaction(train_df['text'].values)\n",
    "cv_df['bert_encoding'] = bert_feature_exrtaction(cv_df['text'].values)\n",
    "test_df['bert_encoding'] = bert_feature_exrtaction(test_df['text'].values)"
   ]
  },
  {
   "cell_type": "code",
   "execution_count": 13,
   "metadata": {},
   "outputs": [],
   "source": [
    "train_df.to_parquet('../data/train_df_bert')\n",
    "cv_df.to_parquet('../data/cv_df_bert')\n",
    "test_df.to_parquet('../data/test_df_bert')"
   ]
  },
  {
   "cell_type": "code",
   "execution_count": null,
   "metadata": {},
   "outputs": [],
   "source": []
  }
 ],
 "metadata": {
  "kernelspec": {
   "display_name": "text_feature_extraction",
   "language": "python",
   "name": "python3"
  },
  "language_info": {
   "codemirror_mode": {
    "name": "ipython",
    "version": 3
   },
   "file_extension": ".py",
   "mimetype": "text/x-python",
   "name": "python",
   "nbconvert_exporter": "python",
   "pygments_lexer": "ipython3",
   "version": "3.10.0"
  },
  "orig_nbformat": 4,
  "vscode": {
   "interpreter": {
    "hash": "5ec2307c6da6095ac5c248cd41d04f426e39da14703d13401e6fe0c19f7ae217"
   }
  }
 },
 "nbformat": 4,
 "nbformat_minor": 2
}
